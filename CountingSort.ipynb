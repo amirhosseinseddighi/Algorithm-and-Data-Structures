{
 "cells": [
  {
   "cell_type": "markdown",
   "id": "66fc3280-54db-41dc-b0c9-1568ce0339ce",
   "metadata": {},
   "source": [
    "## Counting sort\n",
    "\n",
    "In this algorithm we divide data into several categories and then mark the category for each data. At last we sort the categories and write every category `n` times which n is number of marks of that category.\n",
    "\n",
    "**You can use this algorithm if:**\n",
    "\n",
    "1. Numbers(data) are descrete and countable\n",
    "2. Categories number are limited —> Data count : `m` / Category count : `n` —> m>n\n",
    "\n",
    "**Example**\n",
    "\n",
    "1. Consider you  a ve 3  o   1 ,4 of 5 ,2 of 10  nd 1 of 20 .\n",
    "2. Categories sol e   ,5 , 10 , 20 \n",
    "3. iterate through data list and mark related category for each data\n",
    "4. For example at las you marked 1  4 times so you hould write 1  ,4 times"
   ]
  },
  {
   "cell_type": "markdown",
   "id": "ef69a4e1-236d-4df9-b32b-1bb9d1d1b333",
   "metadata": {},
   "source": [
    "### Implemention"
   ]
  },
  {
   "cell_type": "code",
   "execution_count": 23,
   "id": "af8a405f-76fb-49b3-84fd-22ebc569279b",
   "metadata": {},
   "outputs": [
    {
     "name": "stdout",
     "output_type": "stream",
     "text": [
      "A is : [4, 5, 6, 9, 1, 8, 5, 5, 0, 2]\n",
      "Maximum of A is : 9\n",
      "Count list is :[0, 0, 0, 0, 0, 0, 0, 0, 0, 0]\n"
     ]
    }
   ],
   "source": [
    "A = [4, 5, 6, 9, 1, 8, 5, 5, 0, 2]\n",
    "m = max(A)\n",
    "count=[0] * (m+1)\n",
    "print(f\"A is : {A}\")\n",
    "print(f\"Maximum of A is : {m}\")\n",
    "print(f\"Count list is :{count}\")"
   ]
  },
  {
   "cell_type": "code",
   "execution_count": 24,
   "id": "146e9276-4674-40a7-bc5e-d551f058d2d6",
   "metadata": {},
   "outputs": [
    {
     "name": "stdout",
     "output_type": "stream",
     "text": [
      "[1, 1, 1, 0, 1, 3, 1, 0, 1, 1]\n"
     ]
    }
   ],
   "source": [
    "for i in A:\n",
    "    count[i]+=1\n",
    "print(count)"
   ]
  },
  {
   "cell_type": "markdown",
   "id": "1a9d207b-6031-4e3e-9ddb-755f1ef3ee24",
   "metadata": {},
   "source": [
    "Index 0 which means category 0 is now 1 so we have one 0\n",
    "Now it's time to write sorted list"
   ]
  },
  {
   "cell_type": "code",
   "execution_count": 26,
   "id": "5189bcce-dcdd-4abc-bf05-06cbdba0bd3d",
   "metadata": {},
   "outputs": [
    {
     "name": "stdout",
     "output_type": "stream",
     "text": [
      "[0, 1, 2, 4, 5, 5, 5, 6, 8, 9]\n"
     ]
    }
   ],
   "source": [
    "output=[]\n",
    "for i in range(len(count)):\n",
    "    output+= [i] * count[i]\n",
    "print(output)"
   ]
  },
  {
   "cell_type": "code",
   "execution_count": null,
   "id": "53e3a7a8-77e5-408a-ada1-c3288ac2f4fe",
   "metadata": {},
   "outputs": [],
   "source": []
  }
 ],
 "metadata": {
  "kernelspec": {
   "display_name": "Python 3 (ipykernel)",
   "language": "python",
   "name": "python3"
  },
  "language_info": {
   "codemirror_mode": {
    "name": "ipython",
    "version": 3
   },
   "file_extension": ".py",
   "mimetype": "text/x-python",
   "name": "python",
   "nbconvert_exporter": "python",
   "pygments_lexer": "ipython3",
   "version": "3.11.4"
  }
 },
 "nbformat": 4,
 "nbformat_minor": 5
}
