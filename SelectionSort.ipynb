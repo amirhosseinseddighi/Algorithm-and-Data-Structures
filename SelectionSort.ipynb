{
 "cells": [
  {
   "cell_type": "markdown",
   "id": "2454afb7-c330-4481-898f-a703200f16a3",
   "metadata": {},
   "source": [
    "### Flow\n",
    "\n",
    "In this sort algorithm , we start iterating the list from beginning of the list(which `i` will count the current index we are in) and then find the index of maximum item of the **rest** of the list and swap that item(which `j` will hold that item’s index) with current item(`A[i]`). then go to next index(next `i`)\n",
    "\n",
    "![Selection-Sort-Animation.gif](Selection-Sort-Animation.gif)\n",
    "\n",
    "---\n",
    "\n",
    "### Implementation"
   ]
  },
  {
   "cell_type": "code",
   "execution_count": 5,
   "id": "21837173-9742-4c92-bd92-3d04e784e431",
   "metadata": {},
   "outputs": [],
   "source": [
    "A = [4, 5, 6, 9, 1, 8, 5, 5, 0, 2]"
   ]
  },
  {
   "cell_type": "code",
   "execution_count": 6,
   "id": "3f88658f-9e02-45a4-9f6c-919162ff59a6",
   "metadata": {},
   "outputs": [
    {
     "name": "stdout",
     "output_type": "stream",
     "text": [
      "[4, 5, 6, 2, 1, 8, 5, 5, 0, 9]\n",
      "[4, 5, 6, 2, 1, 0, 5, 5, 8, 9]\n",
      "[4, 5, 5, 2, 1, 0, 5, 6, 8, 9]\n",
      "[4, 5, 5, 2, 1, 0, 5, 6, 8, 9]\n",
      "[4, 0, 5, 2, 1, 5, 5, 6, 8, 9]\n",
      "[4, 0, 1, 2, 5, 5, 5, 6, 8, 9]\n",
      "[2, 0, 1, 4, 5, 5, 5, 6, 8, 9]\n",
      "[1, 0, 2, 4, 5, 5, 5, 6, 8, 9]\n",
      "[0, 1, 2, 4, 5, 5, 5, 6, 8, 9]\n"
     ]
    }
   ],
   "source": [
    "for i in range(len(A)-1,0,-1):\n",
    "    temp = A[i]\n",
    "    for j in range(0,i+1):\n",
    "        if A[j]>A[temp]:\n",
    "            temp=j\n",
    "    # after for loop we have max item of the range in temp\n",
    "    A[i],A[temp] = A[temp],A[i]\n",
    "    print(A)\n"
   ]
  },
  {
   "cell_type": "code",
   "execution_count": null,
   "id": "22dc6fbd-a4cd-4b1d-bbda-5df6b8591198",
   "metadata": {},
   "outputs": [],
   "source": []
  }
 ],
 "metadata": {
  "kernelspec": {
   "display_name": "Python 3 (ipykernel)",
   "language": "python",
   "name": "python3"
  },
  "language_info": {
   "codemirror_mode": {
    "name": "ipython",
    "version": 3
   },
   "file_extension": ".py",
   "mimetype": "text/x-python",
   "name": "python",
   "nbconvert_exporter": "python",
   "pygments_lexer": "ipython3",
   "version": "3.11.4"
  }
 },
 "nbformat": 4,
 "nbformat_minor": 5
}
