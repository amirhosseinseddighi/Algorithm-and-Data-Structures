{
 "cells": [
  {
   "cell_type": "markdown",
   "id": "5951235a-1601-4a53-9e97-4c5a6ab2028c",
   "metadata": {},
   "source": [
    "- **The goal is to insert each data in the right place by compare the data with next and previous data**.\n",
    "- Insertion sort can be used for every type of numbers.\n",
    "- **Swap** : a=5,b=7 and when you swap a and b then → a=7, b=5\n",
    "- In C when you want to swap a and b :\n",
    "    \n",
    "    ```bash\n",
    "    c = a\n",
    "    a = b\n",
    "    b =c\n",
    "    ```\n",
    "    \n",
    "    But in Python:\n",
    "    \n",
    "    ```bash\n",
    "    a,b = b,a\n",
    "    ```\n",
    "    \n",
    "\n",
    "**We consider we want to insert `i` in the sorted list with `n` elements. so how we can find the right place of `i`?**\n",
    "\n",
    "1. Put `i` in a variable\n",
    "2. Start comparing value of `i` with items values of list in backwards from `n-1` to 0.\n",
    "3. If item of list is greater than `i` shift it to right\n",
    "4. Do the above step until current item of list is not greater that `i` \n",
    "5. Put `i` in that place\n",
    "\n",
    "## I**mplementation**"
   ]
  },
  {
   "cell_type": "code",
   "execution_count": 41,
   "id": "b6fa87bc-93c3-4e9c-bdbb-32f27279ca69",
   "metadata": {},
   "outputs": [],
   "source": [
    "A = [4, 5, 6, 9, 1, 8, 5, 5, 0, 2]"
   ]
  },
  {
   "cell_type": "code",
   "execution_count": 42,
   "id": "a0625261-8681-4a7d-befa-91ef702eeac5",
   "metadata": {},
   "outputs": [
    {
     "name": "stdout",
     "output_type": "stream",
     "text": [
      "[4, 5, 6, 9, 9, 8, 5, 5, 0, 2]\n",
      "[4, 5, 6, 6, 9, 8, 5, 5, 0, 2]\n",
      "[4, 5, 5, 6, 9, 8, 5, 5, 0, 2]\n",
      "[4, 4, 5, 6, 9, 8, 5, 5, 0, 2]\n",
      "[1, 4, 5, 6, 9, 9, 5, 5, 0, 2]\n",
      "[1, 4, 5, 6, 8, 9, 9, 5, 0, 2]\n",
      "[1, 4, 5, 6, 8, 8, 9, 5, 0, 2]\n",
      "[1, 4, 5, 6, 6, 8, 9, 5, 0, 2]\n",
      "[1, 4, 5, 5, 6, 8, 9, 9, 0, 2]\n",
      "[1, 4, 5, 5, 6, 8, 8, 9, 0, 2]\n",
      "[1, 4, 5, 5, 6, 6, 8, 9, 0, 2]\n",
      "[1, 4, 5, 5, 5, 6, 8, 9, 9, 2]\n",
      "[1, 4, 5, 5, 5, 6, 8, 8, 9, 2]\n",
      "[1, 4, 5, 5, 5, 6, 6, 8, 9, 2]\n",
      "[1, 4, 5, 5, 5, 5, 6, 8, 9, 2]\n",
      "[1, 4, 5, 5, 5, 5, 6, 8, 9, 2]\n",
      "[1, 4, 5, 5, 5, 5, 6, 8, 9, 2]\n",
      "[1, 4, 4, 5, 5, 5, 6, 8, 9, 2]\n",
      "[1, 1, 4, 5, 5, 5, 6, 8, 9, 2]\n",
      "[0, 1, 4, 5, 5, 5, 6, 8, 9, 9]\n",
      "[0, 1, 4, 5, 5, 5, 6, 8, 8, 9]\n",
      "[0, 1, 4, 5, 5, 5, 6, 6, 8, 9]\n",
      "[0, 1, 4, 5, 5, 5, 5, 6, 8, 9]\n",
      "[0, 1, 4, 5, 5, 5, 5, 6, 8, 9]\n",
      "[0, 1, 4, 5, 5, 5, 5, 6, 8, 9]\n",
      "[0, 1, 4, 4, 5, 5, 5, 6, 8, 9]\n"
     ]
    }
   ],
   "source": [
    "for i in range(1,len(A)): # i is index of inserted item to the list\n",
    "    item = A[i] # Put value of i to be compared with list items\n",
    "    k = i-1 # i will hold index of current number to be checked with item\n",
    "    while k>=0 and A[k]>item:\n",
    "        A[k+1] = A[k] # Shift to right\n",
    "        k-=1\n",
    "        print(A)\n",
    "    A[k+1]=item\n",
    "    \n"
   ]
  },
  {
   "cell_type": "code",
   "execution_count": null,
   "id": "c92e0175-8b0e-4aaa-93e7-7ed20a2532d3",
   "metadata": {},
   "outputs": [],
   "source": []
  }
 ],
 "metadata": {
  "kernelspec": {
   "display_name": "Python 3 (ipykernel)",
   "language": "python",
   "name": "python3"
  },
  "language_info": {
   "codemirror_mode": {
    "name": "ipython",
    "version": 3
   },
   "file_extension": ".py",
   "mimetype": "text/x-python",
   "name": "python",
   "nbconvert_exporter": "python",
   "pygments_lexer": "ipython3",
   "version": "3.11.4"
  }
 },
 "nbformat": 4,
 "nbformat_minor": 5
}
